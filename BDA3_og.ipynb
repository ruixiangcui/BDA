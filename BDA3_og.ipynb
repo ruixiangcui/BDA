{
 "cells": [
  {
   "cell_type": "code",
   "execution_count": 3,
   "metadata": {
    "pycharm": {
     "is_executing": false
    }
   },
   "outputs": [],
   "source": [
    "import pandas as pd\n",
    "import numpy as np\n",
    "from bs4 import BeautifulSoup\n",
    "import re\n",
    "from sklearn.model_selection import train_test_split\n",
    "from sklearn.metrics import r2_score\n",
    "import matplotlib.pyplot as plt\n",
    "import numpy as np\n",
    "plt.style.use(style=\"ggplot\")\n",
    "import seaborn as sns"
   ]
  },
  {
   "cell_type": "code",
   "execution_count": 4,
   "metadata": {
    "pycharm": {
     "is_executing": false
    }
   },
   "outputs": [
    {
     "name": "stderr",
     "text": [
      "/Users/mac/anaconda3/lib/python3.7/site-packages/IPython/core/interactiveshell.py:3057: DtypeWarning: Columns (61,62) have mixed types. Specify dtype option on import or set low_memory=False.\n",
      "  interactivity=interactivity, compiler=compiler, result=result)\n"
     ],
     "output_type": "stream"
    }
   ],
   "source": [
    "# read csv data\n",
    "\n",
    "df_raw_raw=pd.read_csv(\"listings1.csv\")\n",
    "df_raw_raw = df_raw_raw.set_index('id')\n",
    "df_ori=pd.read_csv(\"listings_original.csv\")\n",
    "df_ori = df_ori.set_index('id')"
   ]
  },
  {
   "cell_type": "code",
   "execution_count": 5,
   "metadata": {
    "pycharm": {
     "is_executing": false
    }
   },
   "outputs": [],
   "source": [
    "df_raw=pd.concat([df_raw_raw,df_ori[\"extra_people\"],df_ori[\"guests_included\"]],axis=1)"
   ]
  },
  {
   "cell_type": "code",
   "execution_count": 6,
   "metadata": {
    "pycharm": {
     "is_executing": false
    }
   },
   "outputs": [],
   "source": [
    "df_raw.extra_people = df_raw.extra_people.str.replace('$', '').str.replace(',', '').astype(float)\n",
    "df_raw.drop(columns=['host_verifications'], inplace=True)"
   ]
  },
  {
   "cell_type": "code",
   "execution_count": 7,
   "metadata": {
    "pycharm": {
     "is_executing": false
    }
   },
   "outputs": [
    {
     "name": "stdout",
     "text": [
      "<class 'pandas.core.frame.DataFrame'>\n",
      "Float64Index: 28078 entries, 6983.0 to 38969421.0\n",
      "Data columns (total 41 columns):\n",
      "host_since                          28052 non-null float64\n",
      "host_response_rate                  13738 non-null float64\n",
      "host_is_superhost                   28052 non-null float64\n",
      "host_listings_count                 28052 non-null float64\n",
      "host_has_profile_pic                28052 non-null float64\n",
      "host_identity_verified              28052 non-null float64\n",
      "zipcode                             27254 non-null float64\n",
      "is_location_exact                   28076 non-null float64\n",
      "property_type                       28076 non-null float64\n",
      "room_type                           28076 non-null float64\n",
      "accommodates                        28076 non-null float64\n",
      "bathrooms                           28061 non-null float64\n",
      "bedrooms                            28063 non-null float64\n",
      "beds                                28055 non-null float64\n",
      "bed_type                            28076 non-null float64\n",
      "amenities                           28076 non-null object\n",
      "price                               28076 non-null float64\n",
      "security_deposit                    14174 non-null float64\n",
      "cleaning_fee                        19214 non-null float64\n",
      "minimum_nights                      28076 non-null float64\n",
      "maximum_nights                      28076 non-null float64\n",
      "number_of_reviews                   28076 non-null float64\n",
      "number_of_reviews_ltm               28076 non-null float64\n",
      "review_scores_rating                23410 non-null float64\n",
      "review_scores_accuracy              23388 non-null float64\n",
      "review_scores_cleanliness           23391 non-null float64\n",
      "review_scores_checkin               23366 non-null float64\n",
      "review_scores_communication         23382 non-null float64\n",
      "review_scores_location              23362 non-null float64\n",
      "review_scores_value                 23359 non-null float64\n",
      "instant_bookable                    28076 non-null float64\n",
      "cancellation_policy                 28076 non-null float64\n",
      "require_guest_profile_picture       28076 non-null float64\n",
      "require_guest_phone_verification    28076 non-null float64\n",
      "reviews_per_month                   23869 non-null float64\n",
      "latitude                            28077 non-null float64\n",
      "longitude                           28077 non-null float64\n",
      "square_feet                         398 non-null float64\n",
      "description                         27653 non-null object\n",
      "extra_people                        28077 non-null float64\n",
      "guests_included                     28077 non-null float64\n",
      "dtypes: float64(39), object(2)\n",
      "memory usage: 9.0+ MB\n"
     ],
     "output_type": "stream"
    }
   ],
   "source": [
    "# data information\n",
    "\n",
    "df_raw.info()"
   ]
  },
  {
   "cell_type": "code",
   "execution_count": 9,
   "metadata": {
    "pycharm": {
     "is_executing": false
    }
   },
   "outputs": [
    {
     "data": {
      "text/plain": "<matplotlib.axes._subplots.AxesSubplot at 0x1a35b57cf8>"
     },
     "metadata": {},
     "output_type": "execute_result",
     "execution_count": 9
    },
    {
     "data": {
      "text/plain": "<Figure size 1152x144 with 1 Axes>",
      "image/png": "[encoded data removed]"
     },
     "metadata": {},
     "output_type": "display_data"
    }
   ],
   "source": [
    "# plot price outliers\n",
    "\n",
    "red_square = dict(markerfacecolor='r', markeredgecolor='r', marker='.')\n",
    "df_raw['price'].plot(kind='box', xlim=(0, 70000), vert=False, flierprops=red_square, figsize=(16,2))"
   ]
  },
  {
   "cell_type": "code",
   "execution_count": 10,
   "metadata": {
    "pycharm": {
     "is_executing": false
    }
   },
   "outputs": [
    {
     "data": {
      "text/plain": "<matplotlib.axes._subplots.AxesSubplot at 0x1a2cc06828>"
     },
     "metadata": {},
     "output_type": "execute_result",
     "execution_count": 10
    },
    {
     "data": {
      "text/plain": "<Figure size 1152x144 with 1 Axes>",
      "image/png": "[encoded data removed]"
     },
     "metadata": {},
     "output_type": "display_data"
    }
   ],
   "source": [
    "red_square = dict(markerfacecolor='r', markeredgecolor='r', marker='.')\n",
    "df_raw['price'].plot(kind='box', xlim=(0, 10000), vert=False, flierprops=red_square, figsize=(16,2))"
   ]
  },
  {
   "cell_type": "code",
   "execution_count": 11,
   "metadata": {
    "pycharm": {
     "is_executing": false
    }
   },
   "outputs": [],
   "source": [
    "# delete listings of price above 4000\n",
    "\n",
    "df_raw.drop(df_raw[ (df_raw.price > 4000) | (df_raw.price == 0) ].index, axis=0, inplace=True)"
   ]
  },
  {
   "cell_type": "code",
   "execution_count": 12,
   "metadata": {
    "pycharm": {
     "is_executing": false
    }
   },
   "outputs": [
    {
     "data": {
      "text/plain": "count    27944.000000\nmean       797.042764\nstd        445.567157\nmin         68.000000\n25%        499.000000\n50%        703.000000\n75%        976.000000\nmax       3999.000000\nName: price, dtype: float64"
     },
     "metadata": {},
     "output_type": "execute_result",
     "execution_count": 12
    }
   ],
   "source": [
    "# show price's mean, standard deviation, minimum, quartils, and maximum \n",
    "df_raw['price'].describe()"
   ]
  },
  {
   "cell_type": "code",
   "execution_count": null,
   "metadata": {
    "pycharm": {
     "is_executing": false
    }
   },
   "outputs": [],
   "source": [
    "# detect missing values\n",
    "\n",
    "df_raw.isna().sum()"
   ]
  },
  {
   "cell_type": "code",
   "execution_count": null,
   "metadata": {
    "pycharm": {
     "is_executing": false
    }
   },
   "outputs": [],
   "source": [
    "# process missing values\n",
    "\n",
    "df_raw.cleaning_fee.fillna(0, inplace=True)\n",
    "df_raw.security_deposit.fillna(0, inplace=True)\n",
    "df_raw.host_has_profile_pic.fillna(1,inplace=True)\n",
    "df_raw.host_listings_count.fillna(0,inplace=True)\n",
    "df_raw.host_identity_verified.fillna(0,inplace=True)"
   ]
  },
  {
   "cell_type": "code",
   "execution_count": null,
   "metadata": {
    "pycharm": {
     "is_executing": false
    }
   },
   "outputs": [],
   "source": [
    "df_raw.drop(columns=['square_feet', 'host_response_rate'], inplace=True)\n",
    "df_raw.dropna(subset=[\"host_since\",'bathrooms', \"beds\",\"review_scores_rating\",\n",
    "                      \"review_scores_accuracy\",\"review_scores_cleanliness\",\n",
    "                      'bedrooms', \"review_scores_checkin\",\"review_scores_communication\",\n",
    "                      \"review_scores_location\",\"review_scores_value\",\"reviews_per_month\",\"zipcode\"], inplace=True)"
   ]
  },
  {
   "cell_type": "code",
   "execution_count": null,
   "metadata": {
    "pycharm": {
     "is_executing": false
    }
   },
   "outputs": [],
   "source": [
    "df_raw.info()"
   ]
  },
  {
   "cell_type": "code",
   "execution_count": null,
   "metadata": {
    "pycharm": {
     "is_executing": false
    }
   },
   "outputs": [],
   "source": [
    "# calculate distance to city center based on geographic information, latitude and longitude\n",
    "\n",
    "from geopy.distance import great_circle\n",
    "def distance_to_mid(lat, lon):\n",
    "    Copenhagen_centre = (55.675929, 12.569074)\n",
    "    accommodation = (lat, lon)\n",
    "    return great_circle(Copenhagen_centre, accommodation).km\n",
    "df_raw['distance'] = df_raw.apply(lambda x: distance_to_mid(x.latitude, x.longitude), axis=1)"
   ]
  },
  {
   "cell_type": "code",
   "execution_count": null,
   "metadata": {
    "pycharm": {
     "is_executing": false
    }
   },
   "outputs": [],
   "source": [
    "# extract existing \"size\" from \"description\" feature\n",
    "\n",
    "df_raw['size'] = df_raw['description'].str.extract('(\\d{2,3}\\s?[smSM])', expand=True)\n",
    "df_raw['size'] = df_raw['size'].str.replace(\"\\D\", \"\")\n",
    "df_raw['size'] = df_raw['size'].astype(float)\n",
    "\n",
    "print('NaNs in size_column absolute:     ', df_raw['size'].isna().sum())\n",
    "print('NaNs in size_column in percentage:', round(df_raw['size'].isna().sum()/len(df_raw),3), '%')"
   ]
  },
  {
   "cell_type": "code",
   "execution_count": null,
   "metadata": {
    "pycharm": {
     "is_executing": false
    }
   },
   "outputs": [],
   "source": [
    "df_raw['size'].notna().sum()"
   ]
  },
  {
   "cell_type": "code",
   "execution_count": null,
   "metadata": {
    "pycharm": {
     "is_executing": false
    }
   },
   "outputs": [],
   "source": [
    "df_raw.drop(['description'], axis=1, inplace=True)"
   ]
  },
  {
   "cell_type": "code",
   "execution_count": null,
   "metadata": {
    "pycharm": {
     "is_executing": false
    }
   },
   "outputs": [],
   "source": [
    "# making dataframe for predicting size\n",
    "\n",
    "sub_df = df_raw[['accommodates', 'bathrooms', 'bedrooms',  'price', 'cleaning_fee', \n",
    "                 'security_deposit', 'extra_people', 'guests_included', 'distance', 'size']]"
   ]
  },
  {
   "cell_type": "code",
   "execution_count": null,
   "metadata": {
    "pycharm": {
     "is_executing": false
    }
   },
   "outputs": [],
   "source": [
    "train_data = sub_df[sub_df['size'].notnull()]\n",
    "test_data  = sub_df[sub_df['size'].isnull()]\n",
    "\n",
    "X_train = train_data.drop('size', axis=1)\n",
    "X_test  = test_data.drop('size', axis=1)\n",
    "y_train = train_data['size']"
   ]
  },
  {
   "cell_type": "code",
   "execution_count": null,
   "metadata": {
    "pycharm": {
     "is_executing": false
    }
   },
   "outputs": [],
   "source": [
    "# using linear regression for predicting\n",
    "\n",
    "from sklearn.linear_model import LinearRegression\n",
    "linreg = LinearRegression()\n",
    "linreg.fit(X_train, y_train)\n",
    "\n",
    "y_test = linreg.predict(X_test)\n",
    "y_test = pd.DataFrame(y_test)\n",
    "y_test.columns = ['size']"
   ]
  },
  {
   "cell_type": "code",
   "execution_count": null,
   "metadata": {
    "pycharm": {
     "is_executing": false
    }
   },
   "outputs": [],
   "source": [
    "prelim_index = pd.DataFrame(X_test.index)\n",
    "prelim_index.columns = ['prelim']\n",
    "\n",
    "y_test = pd.concat([y_test, prelim_index], axis=1)\n",
    "y_test.set_index(['prelim'], inplace=True)"
   ]
  },
  {
   "cell_type": "code",
   "execution_count": null,
   "metadata": {
    "pycharm": {
     "is_executing": false
    }
   },
   "outputs": [],
   "source": [
    "new_test_data = pd.concat([X_test, y_test], axis=1)\n",
    "sub_df_new = pd.concat([new_test_data, train_data], axis=0)\n",
    "df_raw.drop(['accommodates', 'bathrooms', 'bedrooms', 'price', 'cleaning_fee', \n",
    "             'security_deposit', 'extra_people', 'guests_included', 'distance', 'size'], \n",
    "            axis=1, inplace=True)\n",
    "\n",
    "df = pd.concat([sub_df_new, df_raw], axis=1)"
   ]
  },
  {
   "cell_type": "code",
   "execution_count": null,
   "metadata": {
    "pycharm": {
     "is_executing": false
    }
   },
   "outputs": [],
   "source": [
    "# show size's mean, standard deviation, minimum, quartils, and maximum \n",
    "\n",
    "df['size'].describe()"
   ]
  },
  {
   "cell_type": "code",
   "execution_count": null,
   "metadata": {
    "pycharm": {
     "is_executing": false
    }
   },
   "outputs": [],
   "source": [
    "# plot size outliers\n",
    "\n",
    "red_square = dict(markerfacecolor='r', markeredgecolor='r', marker='.')\n",
    "df['size'].plot(kind='box', xlim=(0, 1000), vert=False, flierprops=red_square, figsize=(16,2));"
   ]
  },
  {
   "cell_type": "code",
   "execution_count": null,
   "metadata": {
    "pycharm": {
     "is_executing": false
    }
   },
   "outputs": [],
   "source": [
    "# delete size over 300 or equal to 0\n",
    "\n",
    "df.drop(df[ (df['size'] == 0.) | (df['size'] > 300.) ].index, axis=0, inplace=True)\n",
    "print(\"The dataset has {} rows and {} columns - after being engineered.\".format(*df.shape))"
   ]
  },
  {
   "cell_type": "code",
   "execution_count": null,
   "metadata": {
    "pycharm": {
     "is_executing": false
    }
   },
   "outputs": [],
   "source": [
    "# show features from \"amendities\"\n",
    "\n",
    "from collections import Counter\n",
    "results = Counter()\n",
    "df['amenities'].str.strip('{}')\\\n",
    "               .str.replace('\"', '')\\\n",
    "               .str.lstrip('\\\"')\\\n",
    "               .str.rstrip('\\\"')\\\n",
    "               .str.split(',')\\\n",
    "               .apply(results.update)\n",
    "\n",
    "results.most_common(40)"
   ]
  },
  {
   "cell_type": "code",
   "execution_count": null,
   "metadata": {
    "pycharm": {
     "is_executing": false
    }
   },
   "outputs": [],
   "source": [
    "# plot top 40 amendities\n",
    "\n",
    "sub_df = pd.DataFrame(results.most_common(40), columns=['amenity', 'count'])\n",
    "sub_df.sort_values(by=['count'], ascending=True).plot(kind='barh', x='amenity', y='count',  \n",
    "                                                      figsize=(10,7), legend=False, color='darkgrey',\n",
    "                                                      title='Amenities')\n",
    "plt.xlabel('Count');"
   ]
  },
  {
   "cell_type": "code",
   "execution_count": null,
   "metadata": {
    "pycharm": {
     "is_executing": false
    }
   },
   "outputs": [],
   "source": [
    "'''\n",
    "extract (TV,  Laptop_friendly_workspace, Family_kid_friendly, Host_greets_you, cooking_basics, \n",
    "Patio_or_balcony,garden_or_beckyard) as individual features\n",
    "and delete \"amendities\" column\n",
    "'''\n",
    "\n",
    "df['TV'] = df['amenities'].str.contains('TV')\n",
    "df['Laptop_friendly_workspace'] = df['amenities'].str.contains('Laptop friendly workspace')\n",
    "df['Family_kid_friendly'] = df['amenities'].str.contains('Family/kid friendly')\n",
    "df['Host_greets_you'] = df['amenities'].str.contains('Host greets you')\n",
    "df['cooking_basics'] = df['amenities'].str.contains('Cooking basics')\n",
    "df['Patio_or_balcony'] = df['amenities'].str.contains('Patio or balcony')\n",
    "df['garden_or_beckyard'] = df['amenities'].str.contains('Garden or backyard')\n",
    "df.drop(['amenities'], axis=1, inplace=True)"
   ]
  },
  {
   "cell_type": "code",
   "execution_count": null,
   "metadata": {
    "pycharm": {
     "is_executing": false
    }
   },
   "outputs": [],
   "source": [
    "# plot price vs lcoation\n",
    "\n",
    "df.plot(kind=\"scatter\", x=\"longitude\", y=\"latitude\", alpha=0.4, figsize=(10,7), \n",
    "        c=\"price\", cmap=\"hot_r\", colorbar=True, sharex=False);"
   ]
  },
  {
   "cell_type": "code",
   "execution_count": null,
   "metadata": {
    "pycharm": {
     "is_executing": false
    }
   },
   "outputs": [],
   "source": [
    "# plot price vs price_per_bedroom\n",
    "\n",
    "df_copy=df.copy()\n",
    "df_copy[\"price_per_bedroom\"]=df_copy[\"price\"]/df_copy[\"bedrooms\"]\n",
    "df_copy.plot(kind=\"scatter\", x=\"longitude\", y=\"latitude\", alpha=0.4, figsize=(10,7), \n",
    "        c=\"price_per_bedroom\", cmap=\"hot_r\", colorbar=True, sharex=False);"
   ]
  },
  {
   "cell_type": "code",
   "execution_count": null,
   "metadata": {
    "pycharm": {
     "is_executing": false
    }
   },
   "outputs": [],
   "source": [
    "# extract neighbourhood information \n",
    "\n",
    "neighbour=pd.read_csv(\"neighbourhood.csv\", sep=';')   \n",
    "nei={}\n",
    "for i in neighbour.index:\n",
    "    if neighbour.at[i,\"area_code2\"].astype(int)<=neighbour.at[i,\"area_code1\"].astype(int):\n",
    "        celling=neighbour.at[i,\"area_code1\"].astype(int)+1\n",
    "    else:\n",
    "        celling=neighbour.at[i,\"area_code2\"].astype(int)+1\n",
    "#         print(neighbour.at[i,\"area_code1\"].astype(int))\n",
    "    nei[range(neighbour.at[i,\"area_code1\"].astype(int),celling)]=neighbour.at[i,\"Neighbourhood\"]"
   ]
  },
  {
   "cell_type": "code",
   "execution_count": null,
   "metadata": {
    "pycharm": {
     "is_executing": false
    }
   },
   "outputs": [],
   "source": [
    "def zip_to_dis(x):\n",
    "    for i, j in enumerate(nei.keys()):\n",
    "        if x in j:\n",
    "            return nei[j]\n",
    "df['neighbourhood'] = df.apply(lambda x: zip_to_dis(x.zipcode), axis=1)  \n",
    "df['neighbourhood'].value_counts().sort_values()"
   ]
  },
  {
   "cell_type": "code",
   "execution_count": null,
   "metadata": {
    "pycharm": {
     "is_executing": false
    }
   },
   "outputs": [],
   "source": [
    "# delete listings in Herlev,Roedovre, Hvidovre, and Soeborg \n",
    "\n",
    "df_n=df.copy()\n",
    "df_n=df_n.drop(df_n[df_n.neighbourhood==\"Herlev\"].index)\n",
    "df_n=df_n.drop(df_n[df_n.neighbourhood==\"Roedovre\"].index)\n",
    "df_n=df_n.drop(df_n[df_n.neighbourhood==\"Hvidovre\"].index)\n",
    "df_n=df_n.drop(df_n[df_n.neighbourhood==\"Soeborg\"].index)"
   ]
  },
  {
   "cell_type": "code",
   "execution_count": null,
   "metadata": {
    "pycharm": {
     "is_executing": false
    }
   },
   "outputs": [],
   "source": [
    "# plot number of Accommodations per District\n",
    "\n",
    "plt.figure(figsize=(8,8))\n",
    "df_n['neighbourhood'].value_counts().sort_values().plot(kind='barh', color='IndianRed')\n",
    "plt.title('Number of Accommodations per District');"
   ]
  },
  {
   "cell_type": "code",
   "execution_count": null,
   "metadata": {
    "pycharm": {
     "is_executing": false
    }
   },
   "outputs": [],
   "source": [
    "# plot Median Prices by Neighbourhood\n",
    "\n",
    "df_grouped = pd.DataFrame(df_n.groupby(['neighbourhood'])['price'].agg(np.median))\n",
    "df_grouped.reset_index(inplace=True)\n",
    "\n",
    "df_grouped.sort_values(by=['price'], ascending=True)\\\n",
    "          .plot(kind='barh', x='neighbourhood', y='price', \n",
    "                figsize=(10,6), legend=False, color='IndianRed')\n",
    "plt.xlabel('\\nMedian Price', fontsize=12)\n",
    "plt.ylabel('District\\n', fontsize=12)\n",
    "plt.title('\\nMedian Prices by Neighbourhood\\n', fontsize=14, fontweight='bold');"
   ]
  },
  {
   "cell_type": "code",
   "execution_count": null,
   "metadata": {
    "pycharm": {
     "is_executing": false
    }
   },
   "outputs": [],
   "source": [
    "# plot boxplot Prices by Neighbourhood\n",
    "\n",
    "square = dict(markerfacecolor='IndianRed', markeredgecolor='IndianRed', marker='.')\n",
    "\n",
    "df_n.boxplot(column='price', by='neighbourhood', \n",
    "           flierprops=square, vert=False, figsize=(10,8))\n",
    "\n",
    "plt.xlabel('\\nMedian Price', fontsize=12)\n",
    "plt.ylabel('District\\n', fontsize=12)\n",
    "plt.title('\\nBoxplot: Prices by Neighbourhood\\n', fontsize=14, fontweight='bold')\n",
    "plt.suptitle('');"
   ]
  },
  {
   "cell_type": "code",
   "execution_count": null,
   "metadata": {
    "pycharm": {
     "is_executing": false
    }
   },
   "outputs": [],
   "source": [
    "# heatmap for Median Prices by Neighbourhood and Number of Bedrooms\n",
    "\n",
    "sns.set_style(\"dark\")\n",
    "plt.figure(figsize=(8,8))\n",
    "sns.heatmap(df_n.groupby(['neighbourhood', 'bedrooms']).price.median().unstack(), \n",
    "            cmap='Reds', annot=True, fmt=\".0f\")\n",
    "\n",
    "plt.xlabel('\\nBedrooms', fontsize=12)\n",
    "plt.ylabel('District\\n', fontsize=12)\n",
    "plt.title('\\nHeatmap: Median Prices by Neighbourhood and Number of Bedrooms\\n\\n', fontsize=14, fontweight='bold');"
   ]
  },
  {
   "cell_type": "code",
   "execution_count": null,
   "metadata": {
    "pycharm": {
     "is_executing": false
    }
   },
   "outputs": [],
   "source": [
    "# two plots showing relation between Distance and Median Price\n",
    "\n",
    "df.plot.scatter(x=\"distance\", y=\"price\", figsize=(9,6), c='salmon')\n",
    "plt.title('\\nRelation between Distance and Median Price (1)\\n', fontsize=14, fontweight='bold');"
   ]
  },
  {
   "cell_type": "code",
   "execution_count": null,
   "metadata": {
    "pycharm": {
     "is_executing": false
    }
   },
   "outputs": [],
   "source": [
    "sns.jointplot(x=df[\"distance\"], y=df[\"price\"], kind='hex')\n",
    "plt.title('\\nRelation between Distance and Median Price (2)\\n',loc='center', fontsize=14, fontweight='bold');"
   ]
  },
  {
   "cell_type": "code",
   "execution_count": null,
   "metadata": {
    "pycharm": {
     "is_executing": false
    }
   },
   "outputs": [],
   "source": [
    "# dot plot showing relation between Size and Median Price\n",
    "\n",
    "cmap = sns.cubehelix_palette(rot=-.2, as_cmap=True)\n",
    "fig, ax = plt.subplots(figsize=(12,7))\n",
    "ax = sns.scatterplot(x=\"size\", y=\"price\", size='cleaning_fee', sizes=(5, 200),\n",
    "                      hue='size', palette=cmap,  data=df)\n",
    "\n",
    "plt.title('\\nRelation between Size and Median Price\\n', fontsize=14, fontweight='bold')\n",
    "\n",
    "# putting legend out of the plot\n",
    "plt.legend(bbox_to_anchor=(1.05, 1), loc=2, borderaxespad=0.);"
   ]
  },
  {
   "cell_type": "code",
   "execution_count": null,
   "metadata": {
    "pycharm": {
     "is_executing": false
    }
   },
   "outputs": [],
   "source": [
    "# plot Median Prices by Cancellation Policy\n",
    "\n",
    "df_grouped = pd.DataFrame(df.groupby(['cancellation_policy'])['price'].agg(np.median))\n",
    "df_grouped.reset_index(inplace=True)\n",
    "\n",
    "df_grouped.sort_values(by=['price'], ascending=True)\\\n",
    "          .plot(kind='barh', x='cancellation_policy', y='price', \n",
    "                figsize=(9,5), legend=False, color='darkblue')\n",
    "\n",
    "plt.xlabel('\\nMedian Price', fontsize=12)\n",
    "plt.ylabel('Cancellation Policy\\n', fontsize=12)\n",
    "plt.title('\\nMedian Prices by Cancellation Policy\\n', fontsize=14, fontweight='bold');"
   ]
  },
  {
   "cell_type": "code",
   "execution_count": null,
   "metadata": {
    "pycharm": {
     "is_executing": false
    }
   },
   "outputs": [],
   "source": [
    "# split data 8:2 into train, test \n",
    "x = df.drop([\"price\",\"neighbourhood\"],axis=1)\n",
    "y=df[\"price\"]\n",
    "train_X, test_X, train_y, test_y = train_test_split(x, y, test_size=0.2, random_state=0)"
   ]
  },
  {
   "cell_type": "code",
   "execution_count": null,
   "metadata": {
    "pycharm": {
     "is_executing": false
    }
   },
   "outputs": [],
   "source": [
    "# x_train"
   ]
  },
  {
   "cell_type": "code",
   "execution_count": null,
   "metadata": {
    "pycharm": {
     "is_executing": false
    }
   },
   "outputs": [],
   "source": [
    "'''\n",
    "0-1 data normalization\n",
    "MinMaxScaler subtracts the minimum value in the feature and then divides by the range. \n",
    "The range is the difference between the original maximum and original minimum\n",
    "\n",
    "It preserves the shape of the original distribution \n",
    "without meaningfully change the information embedded in the original data.\n",
    "'''\n",
    "\n",
    "from sklearn.preprocessing import MinMaxScaler\n",
    "\n",
    "scaler = MinMaxScaler()\n",
    "train_X = scaler.fit_transform(train_X)\n",
    "test_X = scaler.transform(test_X)"
   ]
  },
  {
   "cell_type": "code",
   "execution_count": null,
   "metadata": {
    "pycharm": {
     "is_executing": false
    }
   },
   "outputs": [],
   "source": []
  },
  {
   "cell_type": "code",
   "execution_count": null,
   "metadata": {
    "pycharm": {
     "is_executing": false
    }
   },
   "outputs": [],
   "source": [
    "# reduce data dimension using PCA\n",
    "\n",
    "def pca(data):\n",
    "    newData=data-np.mean(data,axis=0)\n",
    "    covMat=np.cov(newData,rowvar=0)\n",
    "    eigVals,eigVects=np.linalg.eig(np.mat(covMat))\n",
    "    idx = eigVals.argsort()[::-1]   \n",
    "    eigVals = eigVals[idx]\n",
    "    eigVects = eigVects[:,idx]\n",
    "    return newData,eigVals,eigVects\n",
    "\n",
    "normalized_x=np.vstack((train_X,test_X))\n",
    "newData,eigVals,eigVects=pca(normalized_x)"
   ]
  },
  {
   "cell_type": "code",
   "execution_count": null,
   "metadata": {
    "pycharm": {
     "is_executing": false
    }
   },
   "outputs": [],
   "source": [
    "eigVects=np.array(eigVects)\n",
    "x=range(1,len(eigVals)+1)\n",
    "y=eigVals/eigVals[0]\n",
    "\n",
    "plt.style.use(style=\"ggplot\")\n",
    "plt.title(\"Variance versus PC\")\n",
    "plt.plot(x,y,color=\"#800080\",linewidth=2.0)\n",
    "plt.show()"
   ]
  },
  {
   "cell_type": "code",
   "execution_count": null,
   "metadata": {
    "pycharm": {
     "is_executing": false
    }
   },
   "outputs": [],
   "source": [
    "cumulative=[]\n",
    "k=0\n",
    "for i in eigVals:\n",
    "    k=k+i\n",
    "    cumulative.append(k)\n",
    "x=range(1,len(cumulative)+1)\n",
    "y=cumulative/cumulative[-1]\n",
    "y_p_90=0.95\n",
    "y_p_95=0.98\n",
    "plt.title(\"Cumulative variance versus PC\")\n",
    "plt.plot(x,y,color=\"#800080\",linewidth=2.0)\n",
    "# plt.scatter(x,y,color=\"#800080\",marker = 'o')\n",
    "plt.hlines(y_p_90, 1, 45, colors = \"c\", linestyles = \"dashed\",label='90% captured')\n",
    "plt.hlines(y_p_95, 1, 45, colors = \"black\", linestyles = \"dashed\",label='95% captured')\n",
    "plt.legend(loc='lower right')"
   ]
  },
  {
   "cell_type": "code",
   "execution_count": null,
   "metadata": {
    "pycharm": {
     "is_executing": false
    }
   },
   "outputs": [],
   "source": [
    "from sklearn.decomposition import PCA\n",
    "pca = PCA(n_components=25)\n",
    "pca_data=pca.fit_transform(normalized_x)"
   ]
  },
  {
   "cell_type": "code",
   "execution_count": null,
   "metadata": {
    "pycharm": {
     "is_executing": false
    }
   },
   "outputs": [],
   "source": []
  },
  {
   "cell_type": "code",
   "execution_count": null,
   "metadata": {
    "pycharm": {
     "is_executing": false
    }
   },
   "outputs": [],
   "source": [
    "# predict price using vanilla neural network \n",
    "\n",
    "from sklearn.neural_network import MLPClassifier\n",
    "clf = MLPClassifier(hidden_layer_sizes=(5, 2),random_state=1)\n",
    "clf.fit(train_X, train_y)\n",
    "pred_clf_y=clf.predict(test_X)"
   ]
  },
  {
   "cell_type": "code",
   "execution_count": null,
   "metadata": {
    "pycharm": {
     "is_executing": false
    }
   },
   "outputs": [],
   "source": [
    "# define estimator\n",
    "\n",
    "from sklearn.metrics import mean_absolute_error, mean_squared_error, r2_score\n",
    "def estimator(pred_clf_y): \n",
    "    count=0\n",
    "    for i,j in zip(list(pred_clf_y), test_y):\n",
    "        if i>=j*0.7 and i<=j*1.3:\n",
    "            count+=1\n",
    "\n",
    "    RMSE = np.sqrt(mean_squared_error(test_y, pred_clf_y))\n",
    "    r2 = r2_score(test_y, pred_clf_y)\n",
    "\n",
    "    print(\"Confidence interval with a 30% margin of error: \", count/len(test_y))\n",
    "    print(\"R2 score:\", r2)\n",
    "    print(\"Root Mean Square Error:\", RMSE)\n",
    "    print(\"Mean Absolute Error:\",mean_absolute_error(test_y, pred_clf_y))"
   ]
  },
  {
   "cell_type": "code",
   "execution_count": null,
   "metadata": {
    "pycharm": {
     "is_executing": false
    }
   },
   "outputs": [],
   "source": [
    "'''\n",
    "simple normalized data:\n",
    "Confidence interval with a 30% margin of error:  0.6573007830492861\n",
    "R2 score: 0.44310348809804456\n",
    "Root Mean Square Error: 319.1596090627956\n",
    "Mean Absolute Error: 204.1715799170889\n",
    "\n",
    "after pca(25):\n",
    "Confidence interval with a 30% margin of error:  0.6473975126669738\n",
    "R2 score: 0.42803896338180203\n",
    "Root Mean Square Error: 323.4475738450594\n",
    "Mean Absolute Error: 207.6421004145555\n",
    "\n",
    "'''\n"
   ]
  },
  {
   "cell_type": "code",
   "execution_count": null,
   "metadata": {
    "pycharm": {
     "is_executing": false
    }
   },
   "outputs": [],
   "source": []
  },
  {
   "cell_type": "code",
   "execution_count": null,
   "metadata": {
    "pycharm": {
     "is_executing": false
    }
   },
   "outputs": [],
   "source": [
    "# predcting using xgboost\n",
    "\n",
    "import xgboost as xgb\n",
    "booster = xgb.XGBRegressor(objective = 'reg:squarederror', n_estimators=200, max_depth=7)"
   ]
  },
  {
   "cell_type": "code",
   "execution_count": null,
   "metadata": {
    "pycharm": {
     "is_executing": false
    }
   },
   "outputs": [],
   "source": [
    "from sklearn.model_selection import GridSearchCV\n",
    "\n",
    "# create Grid\n",
    "param_grid = {'learning_rate': [0.01, 0.05, 0.1], \n",
    "              'colsample_bytree': [0.6, 0.7, 1],\n",
    "              'gamma': [0.0, 0.1, 0.2]}\n",
    "\n",
    "# instantiate the tuned random forest\n",
    "booster_grid_search = GridSearchCV(booster, param_grid, cv=3, n_jobs=-1)\n",
    "\n",
    "# train the tuned random forest\n",
    "booster_grid_search.fit(train_X, train_y)\n",
    "\n",
    "# print best estimator parameters found during the grid search\n",
    "print(booster_grid_search.best_params_)"
   ]
  },
  {
   "cell_type": "code",
   "execution_count": null,
   "metadata": {
    "pycharm": {
     "is_executing": false
    }
   },
   "outputs": [],
   "source": [
    "booster = xgb.XGBRegressor(colsample_bytree=0.7, gamma=0.0, learning_rate=0.05, \n",
    "                           max_depth=7, n_estimators=200, random_state=4, objective = 'reg:squarederror')\n",
    "\n",
    "# train\n",
    "booster.fit(train_X, train_y)\n",
    "\n",
    "# predict\n",
    "pred_train_y = booster.predict(train_X)\n",
    "pred_test_y = booster.predict(test_X)"
   ]
  },
  {
   "cell_type": "code",
   "execution_count": null,
   "metadata": {
    "pycharm": {
     "is_executing": false
    }
   },
   "outputs": [],
   "source": [
    "estimator(pred_test_y)"
   ]
  },
  {
   "cell_type": "code",
   "execution_count": null,
   "metadata": {
    "pycharm": {
     "is_executing": false
    }
   },
   "outputs": [],
   "source": [
    "'''\n",
    "Confidence interval with a 30% margin of error:  0.690234914785813\n",
    "R2 score: 0.5821812990483937\n",
    "Root Mean Square Error: 276.4487387027235\n",
    "Mean Absolute Error: 186.20466291163166\n",
    "'''"
   ]
  },
  {
   "cell_type": "code",
   "execution_count": null,
   "metadata": {
    "pycharm": {
     "is_executing": false
    }
   },
   "outputs": [],
   "source": [
    "feat_importances = pd.Series(booster.feature_importances_, index=x.columns)\n",
    "feat_importances.nlargest(45).sort_values().plot(kind='barh', color='darkgrey', figsize=(10,10))\n",
    "plt.xlabel('Relative Feature Importance with XGBoost');"
   ]
  },
  {
   "cell_type": "code",
   "execution_count": null,
   "metadata": {
    "pycharm": {
     "is_executing": false
    }
   },
   "outputs": [],
   "source": [
    "np.sum((pd.Series(booster.feature_importances_, index=x.columns)[\"review_scores_rating\"],\n",
    "pd.Series(booster.feature_importances_, index=x.columns)[\"review_scores_accuracy\"],\n",
    "pd.Series(booster.feature_importances_, index=x.columns)[\"review_scores_cleanliness\"],\n",
    "pd.Series(booster.feature_importances_, index=x.columns)[\"review_scores_checkin\"],\n",
    "pd.Series(booster.feature_importances_, index=x.columns)[\"review_scores_communication\"],\n",
    "pd.Series(booster.feature_importances_, index=x.columns)[\"review_scores_location\"],\n",
    "pd.Series(booster.feature_importances_, index=x.columns)[\"review_scores_value\"]))"
   ]
  },
  {
   "cell_type": "code",
   "execution_count": null,
   "metadata": {
    "pycharm": {
     "is_executing": false
    }
   },
   "outputs": [],
   "source": [
    "# predicting using lstm\n",
    "\n",
    "from keras.models import Sequential\n",
    "from keras.layers import Dense\n",
    "from keras.layers import LSTM\n",
    "from matplotlib import pyplot"
   ]
  },
  {
   "cell_type": "code",
   "execution_count": null,
   "metadata": {
    "pycharm": {
     "is_executing": false
    }
   },
   "outputs": [],
   "source": [
    "train_X.shape"
   ]
  },
  {
   "cell_type": "code",
   "execution_count": null,
   "metadata": {
    "pycharm": {
     "is_executing": false
    }
   },
   "outputs": [],
   "source": [
    "# reshape input to be 3D [samples, timesteps, features]\n",
    "train_X = train_X.reshape((train_X.shape[0], 1, train_X.shape[1]))\n",
    "test_X = test_X.reshape((test_X.shape[0], 1, test_X.shape[1]))\n",
    "print(train_X.shape, train_y.shape, test_X.shape, test_y.shape)"
   ]
  },
  {
   "cell_type": "code",
   "execution_count": null,
   "metadata": {
    "pycharm": {
     "is_executing": false
    }
   },
   "outputs": [],
   "source": [
    "# design network\n",
    "model = Sequential()\n",
    "model.add(LSTM(100, input_shape=(train_X.shape[1], train_X.shape[2])))\n",
    "model.add(Dense(1))\n",
    "model.compile(loss='mae', optimizer='adam')"
   ]
  },
  {
   "cell_type": "code",
   "execution_count": null,
   "metadata": {
    "pycharm": {
     "is_executing": false
    }
   },
   "outputs": [],
   "source": [
    "# fit network\n",
    "history = model.fit(train_X, train_y, epochs=400, batch_size=16, validation_data=(test_X, test_y), verbose=2, shuffle=False)\n",
    "# plot history\n",
    "pyplot.plot(history.history['loss'], label='train')\n",
    "pyplot.plot(history.history['val_loss'], label='test')\n",
    "pyplot.legend()\n",
    "pyplot.show()\n"
   ]
  },
  {
   "cell_type": "code",
   "execution_count": null,
   "metadata": {
    "pycharm": {
     "is_executing": false
    }
   },
   "outputs": [],
   "source": [
    "'''\n",
    "LSTM(50), epochs=200, batch_size=32: loss: 194.6626 - val_loss: 196.4582\n",
    "LSTM(100), epochs=200, batch_size=32, loss: 188.9516 - val_loss: 194.9049\n",
    "LSTM(100), epochs=200, batch_size=50, loss: 178.5542 - val_loss: 193.6281\n",
    "LSTM(100), epochs=400, batch_size=16, loss: 170.2432 - val_loss: 193.5386\n",
    "\n",
    "'''"
   ]
  },
  {
   "cell_type": "code",
   "execution_count": null,
   "metadata": {
    "pycharm": {
     "is_executing": false
    }
   },
   "outputs": [],
   "source": [
    "# make a prediction\n",
    "pred_lstm_y = model.predict(test_X)"
   ]
  },
  {
   "cell_type": "code",
   "execution_count": null,
   "metadata": {
    "pycharm": {
     "is_executing": false
    }
   },
   "outputs": [],
   "source": [
    "# yhat[:100]"
   ]
  },
  {
   "cell_type": "code",
   "execution_count": null,
   "metadata": {
    "pycharm": {
     "is_executing": false
    }
   },
   "outputs": [],
   "source": [
    "count=0\n",
    "for i,j in zip(list(pred_lstm_y), test_y):\n",
    "    if i>=j*0.7 and i<=j*1.3:\n",
    "        count+=1\n",
    "        \n",
    "RMSE = np.sqrt(mean_squared_error(test_y, pred_lstm_y))\n",
    "r2 = r2_score(test_y, pred_lstm_y)\n",
    "\n",
    "print(\"Confidence interval with a 30% margin of error: \", count/len(test_y))\n",
    "print(\"R2 score:\", r2)\n",
    "print(\"Root Mean Square Error:\", RMSE)\n",
    "print(\"Mean Absolute Error:\",mean_absolute_error(test_y, pred_lstm_y))"
   ]
  },
  {
   "cell_type": "code",
   "execution_count": null,
   "metadata": {
    "pycharm": {
     "is_executing": false
    }
   },
   "outputs": [],
   "source": [
    "'''\n",
    "LSTM(100), epochs=400, batch_size=16:\n",
    "Confidence interval with a 30% margin of error:  0.67918010133579\n",
    "R2 score: 0.5350392398329429\n",
    "Root Mean Square Error: 291.6277364088547\n",
    "Mean Absolute Error: 193.53861458671636\n",
    "\n",
    "\n",
    "'''"
   ]
  }
 ],
 "metadata": {
  "kernelspec": {
   "display_name": "Python 3",
   "language": "python",
   "name": "python3"
  },
  "language_info": {
   "codemirror_mode": {
    "name": "ipython",
    "version": 3
   },
   "file_extension": ".py",
   "mimetype": "text/x-python",
   "name": "python",
   "nbconvert_exporter": "python",
   "pygments_lexer": "ipython3",
   "version": "3.7.3"
  }
 },
 "nbformat": 4,
 "nbformat_minor": 2
}